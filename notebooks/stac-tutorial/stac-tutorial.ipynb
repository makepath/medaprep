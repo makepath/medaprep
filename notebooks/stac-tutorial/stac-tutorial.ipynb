{
 "cells": [
  {
   "cell_type": "markdown",
   "id": "0135b980",
   "metadata": {},
   "source": [
    "# STAC Intro\n",
    "This notebook provides a simple example of how to create <b>SpatioTemporal Asset Catolog (STAC)</b> objects and utilize a STAC server to search a catalog.\n",
    "\n",
    "## Requirements\n",
    "In order to setup your environment to run this notebook, please use the conda environment file inside the notebooks directory called environment.yml.\n",
    "\n",
    "You will also need docker and docker-compose installed to run the STAC server docker image.  For information on how to easily setup docker, see https://docs.docker.com/compose/install/compose-desktop/\n",
    "\n",
    "## STAC Objects\n",
    "STAC utilizes JSON to describe geospatial information.  For more information about STAC see https://stacspec.org/en/about/.  To learn more about the STAC spec visit https://stacspec.org/en/about/stac-spec/\n",
    "\n"
   ]
  },
  {
   "cell_type": "markdown",
   "id": "f414a728",
   "metadata": {},
   "source": [
    "## PySTAC\n",
    "In this notebook, we will be utilizing <b>PySTAC</b> (https://github.com/stac-utils/pystac) to create and inspect STAC objects.  As an example, we will use data from an S3 bucket to build a set of STAC items and create a catalog using PySTAC.\n",
    "\n",
    "We will be creating a <b>collection</b> object to contain the SRTM data hosted on S3.  A collection is very similar to a catalog, but is used to describe a group of items.  For more information on collections see  https://github.com/radiantearth/stac-spec/blob/master/collection-spec/collection-spec.md.\n",
    "\n",
    "In order to do this, we will setup an S3 connection to the <b>makepath-srtm</b> bucket.  Since we only need to get the bounds and coordinate reference system (CRS) from each file that we want to add to the collection, we don't need to download each file.  We will use rioxarray to simply read the bounds of the files from S3.  We will then create a Polygon geometry from the bounds.  Both the bounds and the geometry will be used to create an <b>item</b> for the raster.  We then need to add the <b>asset</b> (S3 URI for the raster) to the item, and add the item to the collection.  We do this for every raster in the S3 bucket at our specified prefix."
   ]
  },
  {
   "cell_type": "code",
   "execution_count": 1,
   "id": "4e1a2ffd",
   "metadata": {
    "scrolled": false
   },
   "outputs": [],
   "source": [
    "import boto3\n",
    "from datetime import datetime\n",
    "import json\n",
    "import os\n",
    "import pystac\n",
    "import rioxarray\n",
    "import s3fs\n",
    "from shapely.geometry import Polygon, mapping\n",
    "import xarray\n",
    "\n",
    "\n",
    "def get_bbox(raster_file):\n",
    "    \"\"\"Return the bounding box for the raster\"\"\"\n",
    "    with rioxarray.open_rasterio(raster_file) as ds:\n",
    "        return ds.rio.bounds()\n",
    "    \n",
    "def get_geometry(bbox):\n",
    "    \"\"\"Create a Polygon from the bounding box of a raster\"\"\"\n",
    "    return mapping(Polygon([\n",
    "            [bbox[0], bbox[1]],\n",
    "            [bbox[0], bbox[3]],\n",
    "            [bbox[2], bbox[3]],\n",
    "            [bbox[2], bbox[1]]\n",
    "        ]))\n",
    "\n",
    "def get_crs(raster_file):\n",
    "    \"\"\"Return the coordinate reference system (crs) for the raster\"\"\"\n",
    "    with rioxarray.open_rasterio(raster_file) as ds:\n",
    "        return ds.rio.crs\n",
    "\n",
    "# setup connection to s3.  Make sure you have aws credentials setup!\n",
    "s3_bucket_name = \"makepath-srtm\"\n",
    "s3_prefix = \"srtm-data/\"\n",
    "bucket = boto3.resource(\"s3\").Bucket(s3_bucket_name)"
   ]
  },
  {
   "cell_type": "markdown",
   "id": "e7aa5f90",
   "metadata": {},
   "source": [
    "Now that we have defined some utility functions and setup our S3 connection, it is time to create the collection and start adding items and assets."
   ]
  },
  {
   "cell_type": "code",
   "execution_count": 2,
   "id": "7acb00ab",
   "metadata": {
    "scrolled": false
   },
   "outputs": [
    {
     "name": "stdout",
     "output_type": "stream",
     "text": [
      "srtm-data/n39_w113_1arc_v2.tif\n",
      "srtm-data/n39_w114_1arc_v2.tif\n"
     ]
    }
   ],
   "source": [
    "# create the collection which will contain all our STAC items\n",
    "collection = pystac.Collection(\n",
    "    id='makepath-srtm',\n",
    "    description='makepath SRTM data.',\n",
    "    extent=pystac.Extent(\n",
    "        pystac.SpatialExtent([0, 0, 0, 0]),\n",
    "        pystac.TemporalExtent([[datetime.utcnow(), datetime.utcnow()]]),\n",
    "    )\n",
    ")\n",
    "\n",
    "fs = s3fs.S3FileSystem(anon=False)\n",
    "\n",
    "# add each .tif file in the bucket to the catalog as an item with appropriate asset\n",
    "for obj in bucket.objects.filter(Delimiter=\"/\", Prefix=s3_prefix):\n",
    "    file_name = obj.key\n",
    "    # get a filelike object for s3 so we can open the rasters and get only their metadata from s3 to build the items\n",
    "    if file_name.lower().endswith(\".tif\"):\n",
    "        print(file_name)\n",
    "        s3_path = f\"s3://{s3_bucket_name}/{file_name}\"\n",
    "        bbox = get_bbox(s3_path)\n",
    "        # when creating the item, the id can not contain any slashes\n",
    "        # as this will cause issues accessing the item via REST api\n",
    "        item = pystac.Item(id=file_name.split(\".\")[0].replace(\"/\", \"-\"),\n",
    "                     geometry=get_geometry(bbox),\n",
    "                     bbox=bbox,\n",
    "                     datetime=datetime.utcnow(),\n",
    "                     properties={\n",
    "                         \"crs\": str(get_crs(s3_path)),\n",
    "                     })\n",
    "        # add the asset too\n",
    "        item.add_asset(\n",
    "            key=\"raster-file\",\n",
    "            asset=pystac.Asset(\n",
    "                href=s3_path, \n",
    "                media_type=pystac.MediaType.GEOTIFF,\n",
    "            ),\n",
    "        )\n",
    "        collection.add_item(item)"
   ]
  },
  {
   "cell_type": "code",
   "execution_count": 3,
   "id": "c06e75ab",
   "metadata": {
    "scrolled": false
   },
   "outputs": [
    {
     "name": "stdout",
     "output_type": "stream",
     "text": [
      "* <Collection id=makepath-srtm>\n",
      "  * <Item id=srtm-data-n39_w113_1arc_v2>\n",
      "  * <Item id=srtm-data-n39_w114_1arc_v2>\n"
     ]
    }
   ],
   "source": [
    "# we can check the collection by describing it\n",
    "collection.describe()"
   ]
  },
  {
   "cell_type": "code",
   "execution_count": 4,
   "id": "7d26d72a",
   "metadata": {
    "scrolled": true
   },
   "outputs": [
    {
     "name": "stdout",
     "output_type": "stream",
     "text": [
      "{\n",
      "    \"type\": \"Feature\",\n",
      "    \"stac_version\": \"1.0.0\",\n",
      "    \"id\": \"srtm-data-n39_w113_1arc_v2\",\n",
      "    \"properties\": {\n",
      "        \"crs\": \"EPSG:4326\",\n",
      "        \"datetime\": \"2022-07-28T15:19:23.411121Z\"\n",
      "    },\n",
      "    \"geometry\": {\n",
      "        \"type\": \"Polygon\",\n",
      "        \"coordinates\": [\n",
      "            [\n",
      "                [\n",
      "                    -113.00013888888888,\n",
      "                    38.9998611111111\n",
      "                ],\n",
      "                [\n",
      "                    -113.00013888888888,\n",
      "                    40.000138888888884\n",
      "                ],\n",
      "                [\n",
      "                    -111.99986111111112,\n",
      "                    40.000138888888884\n",
      "                ],\n",
      "                [\n",
      "                    -111.99986111111112,\n",
      "                    38.9998611111111\n",
      "                ],\n",
      "                [\n",
      "                    -113.00013888888888,\n",
      "                    38.9998611111111\n",
      "                ]\n",
      "            ]\n",
      "        ]\n",
      "    },\n",
      "    \"links\": [\n",
      "        {\n",
      "            \"rel\": \"root\",\n",
      "            \"href\": null,\n",
      "            \"type\": \"application/json\"\n",
      "        },\n",
      "        {\n",
      "            \"rel\": \"collection\",\n",
      "            \"href\": null,\n",
      "            \"type\": \"application/json\"\n",
      "        },\n",
      "        {\n",
      "            \"rel\": \"parent\",\n",
      "            \"href\": null,\n",
      "            \"type\": \"application/json\"\n",
      "        }\n",
      "    ],\n",
      "    \"assets\": {\n",
      "        \"raster-file\": {\n",
      "            \"href\": \"s3://makepath-srtm/srtm-data/n39_w113_1arc_v2.tif\",\n",
      "            \"type\": \"image/tiff; application=geotiff\"\n",
      "        }\n",
      "    },\n",
      "    \"bbox\": [\n",
      "        -113.00013888888888,\n",
      "        38.9998611111111,\n",
      "        -111.99986111111112,\n",
      "        40.000138888888884\n",
      "    ],\n",
      "    \"stac_extensions\": [],\n",
      "    \"collection\": \"makepath-srtm\"\n",
      "}\n"
     ]
    }
   ],
   "source": [
    "# we can inspect what an item looks like by getting one and printing the json dump\n",
    "item = next(iter(collection.get_items()))\n",
    "print(json.dumps(item.to_dict(), indent=4))"
   ]
  },
  {
   "cell_type": "markdown",
   "id": "69f2a8c7",
   "metadata": {},
   "source": [
    "### Normalizing Item HREFs\n",
    "Now that we have a collection setup with a set of items and assets, we need to ensure that the <b>HREFs</b> within the collection and items are correct.  To do this, PySTAC provides a utility function that lets us normalize the HREFs.  Typically this would be used to provide a location to the json files and assets on disk.  However, since our data is hosted in an S3 bucket, we will use this functionality to setup the references to reflect the remote storage location.\n",
    "\n",
    "By default, PySTAC will create subdirectories for each item and asset.  Since all of our rasters are in a single S3 bucket prefix, we need to tell PySTAC that we want all the assets and items in a single subfolder.  To do this, we use a <b>TemplateLayoutStrategy</b> (as shown below).  We also want to make sure that the catalog HREFs are absolute, so we set the collection's catalog type (remember collections are just catalogs!) to <b>ABSOLUTE_PUBLISHED</b>.  Once this is complete, we can see that all the HREFs for items are setup correctly and that they are now S3 URIs."
   ]
  },
  {
   "cell_type": "code",
   "execution_count": 5,
   "id": "430bd4ef",
   "metadata": {},
   "outputs": [
    {
     "name": "stdout",
     "output_type": "stream",
     "text": [
      "{\n",
      "    \"type\": \"Feature\",\n",
      "    \"stac_version\": \"1.0.0\",\n",
      "    \"id\": \"srtm-data-n39_w113_1arc_v2\",\n",
      "    \"properties\": {\n",
      "        \"crs\": \"EPSG:4326\",\n",
      "        \"datetime\": \"2022-07-28T15:19:23.411121Z\"\n",
      "    },\n",
      "    \"geometry\": {\n",
      "        \"type\": \"Polygon\",\n",
      "        \"coordinates\": [\n",
      "            [\n",
      "                [\n",
      "                    -113.00013888888888,\n",
      "                    38.9998611111111\n",
      "                ],\n",
      "                [\n",
      "                    -113.00013888888888,\n",
      "                    40.000138888888884\n",
      "                ],\n",
      "                [\n",
      "                    -111.99986111111112,\n",
      "                    40.000138888888884\n",
      "                ],\n",
      "                [\n",
      "                    -111.99986111111112,\n",
      "                    38.9998611111111\n",
      "                ],\n",
      "                [\n",
      "                    -113.00013888888888,\n",
      "                    38.9998611111111\n",
      "                ]\n",
      "            ]\n",
      "        ]\n",
      "    },\n",
      "    \"links\": [\n",
      "        {\n",
      "            \"rel\": \"root\",\n",
      "            \"href\": \"s3://makepath-srtm/collection.json\",\n",
      "            \"type\": \"application/json\"\n",
      "        },\n",
      "        {\n",
      "            \"rel\": \"collection\",\n",
      "            \"href\": \"s3://makepath-srtm/collection.json\",\n",
      "            \"type\": \"application/json\"\n",
      "        },\n",
      "        {\n",
      "            \"rel\": \"self\",\n",
      "            \"href\": \"s3://makepath-srtm/srtm-data-n39_w113_1arc_v2.json\",\n",
      "            \"type\": \"application/json\"\n",
      "        },\n",
      "        {\n",
      "            \"rel\": \"parent\",\n",
      "            \"href\": \"s3://makepath-srtm/collection.json\",\n",
      "            \"type\": \"application/json\"\n",
      "        }\n",
      "    ],\n",
      "    \"assets\": {\n",
      "        \"raster-file\": {\n",
      "            \"href\": \"s3://makepath-srtm/srtm-data/n39_w113_1arc_v2.tif\",\n",
      "            \"type\": \"image/tiff; application=geotiff\"\n",
      "        }\n",
      "    },\n",
      "    \"bbox\": [\n",
      "        -113.00013888888888,\n",
      "        38.9998611111111,\n",
      "        -111.99986111111112,\n",
      "        40.000138888888884\n",
      "    ],\n",
      "    \"stac_extensions\": [],\n",
      "    \"collection\": \"makepath-srtm\"\n",
      "}\n"
     ]
    }
   ],
   "source": [
    "# normalize all hrefs to the s3 bucket uri\n",
    "from pystac.layout import TemplateLayoutStrategy\n",
    "\n",
    "collection.catalog_type = pystac.CatalogType.ABSOLUTE_PUBLISHED\n",
    "strategy = TemplateLayoutStrategy(item_template=f\"\")\n",
    "collection.normalize_hrefs(f\"s3://{s3_bucket_name}\", strategy=strategy)\n",
    "item = next(iter(collection.get_items()))\n",
    "print(json.dumps(item.to_dict(), indent=4))"
   ]
  },
  {
   "cell_type": "markdown",
   "id": "53a2ac44",
   "metadata": {},
   "source": [
    "## STAC-FastAPI\n",
    "In this notebook, we will be using <b>STAC-FastAPI</b> (https://github.com/stac-utils/stac-fastapi) to host an OpenAPI compliant, STAC server based on FastAPI.  This will provide a set of RESTful endpoints that we can use to host STAC objects.  We can also use the API to search for STAC Items using meta data like a bounding box.\n",
    "\n",
    "### Setup\n",
    "We will clone the stac-fastapi github repo and run the server locally using a docker image in the repo.  <b><u>In a new terminal (outside the notebook)</u></b>, use the following set of commands to clone the repo to any desired location, then build and run the stac-fastapi project:\n",
    "\n",
    "`git clone git@github.com:stac-utils/stac-fastapi.git`<br>\n",
    "`cd stac-fastapi`<br>\n",
    "`make image`<br>\n",
    "`make docker-run-pgstac`<br>\n",
    "\n",
    "With the docker containers running, the stac-fastapi is now accessable at http://localhost:8080.\n",
    "\n",
    "### Optional Database Inspection\n",
    "This step is <b><u>entirely optional</u></b>, but for anyone interested in connecting to the postgis database to inspect the data, the postgis backend can be accessed using psql:\n",
    "`psql -h 127.0.0.1 -p 5439 -U username -d postgis` with password: `password`.\n",
    "\n",
    "Once connected to the database, the schema must be set to `pgstac` (`set schema 'pgstac';`)."
   ]
  },
  {
   "cell_type": "markdown",
   "id": "731aee82",
   "metadata": {},
   "source": [
    "## STAC Server Data Ingestion\n",
    "Now that we have created a catalog and started a server, we need to have the STAC server ingest the new data.  In order to do this, we will write a simple python script that uses the STAC-FastAPI REST endpoints to ingest new data."
   ]
  },
  {
   "cell_type": "code",
   "execution_count": 10,
   "id": "92444553",
   "metadata": {},
   "outputs": [],
   "source": [
    "import json\n",
    "import sys\n",
    "from urllib.parse import urljoin\n",
    "import requests\n",
    "\n",
    "\n",
    "app_host = \"http://localhost:8080\"\n",
    "\n",
    "def post_or_put(url: str, data: dict):\n",
    "    \"\"\"Post or put data to url.\"\"\"\n",
    "    r = requests.post(url, json=data)\n",
    "    if r.status_code == 409:\n",
    "        # Exists, so update\n",
    "        r = requests.put(url, json=data)\n",
    "        # Unchanged may throw a 404\n",
    "        if not r.status_code == 404:\n",
    "            r.raise_for_status()\n",
    "    else:\n",
    "        r.raise_for_status()\n",
    "        \n",
    "\n",
    "collection_dict = collection.to_dict()\n",
    "post_or_put(urljoin(app_host, \"/collections\"), collection_dict)\n",
    "\n",
    "for item in collection.get_items():\n",
    "    item_dict = item.to_dict()\n",
    "    del item_dict[\"stac_extensions\"]\n",
    "    post_or_put(urljoin(app_host, f\"collections/{collection_dict['id']}/items\"), item_dict)"
   ]
  },
  {
   "cell_type": "markdown",
   "id": "ad4b5df4",
   "metadata": {},
   "source": [
    "## PySTAC-Client\n",
    "In this notebook, we will be utilizing <b>PySTAC-Client</b> (https://github.com/stac-utils/pystac-client) to access catalogs via the STAC server's RESTful API.  Now that we have some data uploaded to our local STAC server running in the docker container, we can use the PySTAC-Client to access it and execute searches."
   ]
  },
  {
   "cell_type": "code",
   "execution_count": 6,
   "id": "073afc32",
   "metadata": {},
   "outputs": [
    {
     "data": {
      "text/plain": [
       "'stac-fastapi'"
      ]
     },
     "execution_count": 6,
     "metadata": {},
     "output_type": "execute_result"
    }
   ],
   "source": [
    "from pystac_client import Client, ConformanceClasses\n",
    "api = Client.open('http://localhost:8080')\n",
    "api.title"
   ]
  },
  {
   "cell_type": "code",
   "execution_count": 7,
   "id": "c41886c3",
   "metadata": {},
   "outputs": [
    {
     "name": "stdout",
     "output_type": "stream",
     "text": [
      "[<CollectionClient id=makepath-srtm>]\n",
      "[<Item id=srtm-data-n39_w114_1arc_v2>, <Item id=srtm-data-n39_w113_1arc_v2>]\n"
     ]
    }
   ],
   "source": [
    "print([x for x in api.get_all_collections()])\n",
    "print([x for x in api.get_all_items()])"
   ]
  },
  {
   "cell_type": "code",
   "execution_count": 8,
   "id": "1314fa3f",
   "metadata": {},
   "outputs": [
    {
     "name": "stdout",
     "output_type": "stream",
     "text": [
      "{'raster-file': <Asset href=s3://makepath-srtm/srtm-data/n39_w114_1arc_v2.tif>}\n",
      "{'raster-file': <Asset href=s3://makepath-srtm/srtm-data/n39_w113_1arc_v2.tif>}\n"
     ]
    }
   ],
   "source": [
    "results = api.search(max_items=5, bbox=[\n",
    "    -113.00013888888888,\n",
    "    38.9998611111111,\n",
    "    -111.99986111111112,\n",
    "    40.000138888888884]\n",
    ")\n",
    "for x in results.items():\n",
    "    print(x.assets)"
   ]
  },
  {
   "cell_type": "markdown",
   "id": "9410f03c",
   "metadata": {},
   "source": [
    "## STAC Extensions\n",
    "Extensions add new fields or semantics to objects.  For a list of STAC extensions, see https://stac-extensions.github.io/.\n",
    "\n",
    "For a simple example of how extensions can be used, see https://pystac.readthedocs.io/en/stable/quickstart.html#STAC-Extensions\n"
   ]
  },
  {
   "cell_type": "markdown",
   "id": "002b6d00",
   "metadata": {},
   "source": [
    "## Additional Resources\n",
    "- List of tools and resources: https://stacspec.org/en/about/tools-resources/\n",
    "- STAC utils github: https://github.com/stac-utils\n",
    "- STAC spec github: https://github.com/radiantearth/stac-spec\n",
    "- STAC best practices: https://github.com/radiantearth/stac-spec/blob/master/best-practices.md\n",
    "- PySTAC docs: https://pystac.readthedocs.io/en/stable/api/pystac.html#module-pystac"
   ]
  },
  {
   "cell_type": "code",
   "execution_count": null,
   "id": "a6614288",
   "metadata": {},
   "outputs": [],
   "source": []
  }
 ],
 "metadata": {
  "kernelspec": {
   "display_name": "Python 3 (ipykernel)",
   "language": "python",
   "name": "python3"
  },
  "language_info": {
   "codemirror_mode": {
    "name": "ipython",
    "version": 3
   },
   "file_extension": ".py",
   "mimetype": "text/x-python",
   "name": "python",
   "nbconvert_exporter": "python",
   "pygments_lexer": "ipython3",
   "version": "3.10.5"
  }
 },
 "nbformat": 4,
 "nbformat_minor": 5
}
